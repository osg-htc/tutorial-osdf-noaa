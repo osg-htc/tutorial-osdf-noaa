{
 "cells": [
  {
   "cell_type": "markdown",
   "id": "8daafe7c-ae03-404b-a1e4-85b524204aaa",
   "metadata": {},
   "source": [
    "## Preparing for Later\n",
    "\n",
    "This step runs better in a terminal than a notebook, so we're going to \n",
    "do it first (in a terminal) to get it out of the way! \n",
    "\n",
    "Open the launcher page by either using the big blue \"+\" button on the top\n",
    "left or by opening a new tab. Then, open a terminal tab: \n",
    "\n",
    "![](./images/launcher.png)\n",
    "\n",
    "\n",
    "And then copy and paste this command into the terminal: "
   ]
  },
  {
   "cell_type": "code",
   "execution_count": null,
   "id": "90eda22a-fab0-4c31-aa2e-f124fa5dfdb2",
   "metadata": {},
   "outputs": [],
   "source": [
    "pelican credentials reset-password"
   ]
  },
  {
   "cell_type": "markdown",
   "id": "00cf4598-7d4c-4a07-a9b4-4393916a611c",
   "metadata": {},
   "source": [
    "You should see some text that looks like this: \n",
    "\n",
    "```\n",
    "The client is able to save the authorization in a local file.\n",
    "This prevents the need to reinitialize the authorization for each transfer.\n",
    "You will be asked for this password whenever a new session is started.\n",
    "Please provide a new password to encrypt the local OSDF client configuration file:\n",
    "```\n",
    "\n",
    "Type \"Enter\". You'll see this reply. \n",
    "\n",
    "```\n",
    "WARNING: empty password provided; the credentials will be saved unencrypted on disk\n",
    "```\n",
    "\n",
    "This is fine for our demo today, but when working on your own computer, it's wise to set a password. "
   ]
  },
  {
   "cell_type": "markdown",
   "id": "7d5b0d43-fed6-4622-9e26-c688bcc1e30e",
   "metadata": {},
   "source": [
    "## The Dataset\n",
    "\n",
    "The data we'll be working with today is the [NOAA Global Historical Climatology Network](https://www.ncei.noaa.gov/metadata/geoportal/rest/metadata/item/gov.noaa.ncdc:C00861/html) dataset. From the [README](https://docs.opendata.aws/noaa-ghcn-pds/readme.html): \n",
    "\n",
    "> GHCN-Daily is a dataset that contains daily observations over global land areas. It contains station-based measurements from land-based stations worldwide, about two thirds of which are for precipitation measurements only (Menne et al., 2012). GHCN-Daily is a composite of climate records from numerous sources that were merged together and subjected to a common suite of quality assurance reviews (Durre et al., 2010). \n",
    "\n",
    "\n",
    "The GHCN data set is available via Amazon AWS S3, at \n",
    "\n",
    "```\n",
    "https://noaa-ghcn-pds.s3.amazonaws.com/\n",
    "```\n",
    "\n",
    "The OSDF is already connected to AWS through a pre-existing Pelican origin and namespace (more on this in a minute) so we will be able to access this data via Pelican and the OSDF."
   ]
  },
  {
   "cell_type": "markdown",
   "id": "02b244ef-f798-4f09-835f-e45d825f72d1",
   "metadata": {},
   "source": [
    "## Pelican URLs\n",
    "\n",
    "In order to access an object in the OSDF, we need to construct a URL. The URL for OSDF objects looks like this: \n",
    "\n",
    "```\n",
    "osdf:///<namespace>/<object>\n",
    "```\n",
    "\n",
    "Let's start with the namespace. In this example: \n",
    "\n",
    "* the Open Datasets in Amazon S3 are exposed through the prefix `aws-opendata`\n",
    "* followed by the region given on the GHCN website: `us-east-1`\n",
    "* and then finally the name of the data set in AWS, also described in the README: `noaa-ghcn-pds`\n",
    "\n",
    "So the full namespace for this data set is: \n",
    "```\n",
    "/aws-opendata/us-east-1/noaa-ghcn-pds/\n",
    "```\n",
    "\n",
    "Next, we need an object to work with. We can't (currently) list the objects in this location, but you can browse the AWS index link \n",
    "([https://noaa-ghcn-pds.s3.amazonaws.com/](https://noaa-ghcn-pds.s3.amazonaws.com/)) to see the files available.\n",
    "\n",
    "In the top \"level\" of the dataset are several readme files.\n",
    "Let's get the list of stations that are contained in the dataset, so we can identify what files we want to download. The file `ghcnd-stations.txt` contains the desired list. \n",
    "\n",
    "This is the \"object name\" that we want to fetch using the OSDF.\n",
    "```\n",
    "ghcnd-stations.txt\n",
    "```\n",
    "\n",
    "We combine the \"namespace prefix\" and the \"object name\" together to get the full OSDF URL:\n",
    "\n",
    "```\n",
    "osdf:///aws-opendata/us-east-1/noaa-ghcn-pds/ghcnd-stations.txt\n",
    "```\n",
    "\n",
    "***\n",
    "\n",
    "> ### Note on URL formatting\n",
    "> \n",
    "> The canonical form of a Pelican URL is as follows: \n",
    "> \n",
    "> ```\n",
    "> pelican://<federation-root>/<namespace>/<object>\n",
    "> ```\n",
    "> \n",
    "> Because the OSDF is a special instance of a Pelican data federation, it has its own URL \n",
    "> structure as described previously. Technically, these two URLs are equivalent: \n",
    "> \n",
    "> * `pelican://osg-htc.org/ospool/ap40/data/alice/test.txt`\n",
    "> * `osdf:///ospool/ap40/data/alice/test.txt`\n",
    "\n",
    "***"
   ]
  },
  {
   "cell_type": "code",
   "execution_count": null,
   "id": "bd0c7475-b961-4193-b50a-461f1aa89a9b",
   "metadata": {},
   "outputs": [],
   "source": []
  }
 ],
 "metadata": {
  "kernelspec": {
   "display_name": "Bash",
   "language": "bash",
   "name": "bash"
  },
  "language_info": {
   "codemirror_mode": "shell",
   "file_extension": ".sh",
   "mimetype": "text/x-sh",
   "name": "bash"
  }
 },
 "nbformat": 4,
 "nbformat_minor": 5
}
