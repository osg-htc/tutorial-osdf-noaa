{
 "cells": [
  {
   "cell_type": "markdown",
   "id": "17dfa40b-03f1-40bb-988a-c3107d00341a",
   "metadata": {},
   "source": [
    "# Get and Share Objects with the Pelican Command Line Client\n",
    "\n",
    "In this section of the tutorial, we will use the Pelican command line client to fetch data objects that are available via the OSDF as well as put new objects into the OSDF. Along the way, we will also cover the structure of a Pelican object URL, as well as ways to explore the Pelican CLI. "
   ]
  },
  {
   "cell_type": "markdown",
   "id": "f3a84c8d-5915-45bd-8095-754e275fc249",
   "metadata": {},
   "source": [
    "## Introduction to the Command Line Client\n",
    "\n",
    "The Guest OSPool Notebook comes with the Pelican CLI pre-installed.\n",
    "For exercises involving authentication, **you must use the OSPool notebook!**\n",
    "\n",
    "Once installed, you can use the Pelican CLI by using the `pelican` noun-verb commands.\n",
    "For the requests listed above, you need to use the `object` noun.\n",
    "That is, the commands you'll be entering will take the form\n",
    "\n",
    "```\n",
    "pelican object <request> <additional arguments>\n",
    "```\n",
    "\n",
    "where the `additional arguments` usually involves a Pelican URL."
   ]
  },
  {
   "cell_type": "markdown",
   "id": "3520a0f7-4c83-46e1-8c09-57e10f98f184",
   "metadata": {},
   "source": [
    "## Get Data Objects\n",
    "\n",
    "Constructing the URL (covered in the [setup notebook](00-setup.ipynb)) is the tricky part; downloading the object should be easy. The following \n",
    "command will fetch the station list data object. "
   ]
  },
  {
   "cell_type": "code",
   "execution_count": null,
   "id": "79b44415-7e70-4d0f-ad0e-62e198a81a58",
   "metadata": {},
   "outputs": [],
   "source": [
    "pelican object get osdf:///aws-opendata/us-east-1/noaa-ghcn-pds/ghcnd-stations.txt ./"
   ]
  },
  {
   "cell_type": "markdown",
   "id": "a601ab49-3b4f-4de7-a60e-89808ba1d2e5",
   "metadata": {},
   "source": [
    "Once downloaded, we can view the contents: "
   ]
  },
  {
   "cell_type": "code",
   "execution_count": null,
   "id": "c654c2a4-2e2a-4dcf-a430-eabbcd71221e",
   "metadata": {},
   "outputs": [],
   "source": [
    "head ghcnd-stations.txt"
   ]
  },
  {
   "cell_type": "markdown",
   "id": "2ee29a86-9a37-4fee-ac6d-48b3d1e6c555",
   "metadata": {},
   "source": [
    "### Download specific station data\n",
    "\n",
    "Next we will download all the data for a specific station. For this example, we'll use the airport in Madison, WI. The \n",
    "record for that station is: \n",
    "\n",
    "```\n",
    "USW00014837  43.1406  -89.3453  261.8 WI MADISON DANE CO RGNL AP                72641\n",
    "```\n",
    "\n",
    "In order to download the data for this station, we need the station ID - the first field in each record of the `ghcnd-stations.txt` file. For this station, this will be station ID `USW00014837`."
   ]
  },
  {
   "cell_type": "markdown",
   "id": "0e72e888-bbea-4b08-b99b-83cb1e60267a",
   "metadata": {},
   "source": [
    "Once again, we will need to construct our URL. The namespace prefix hasn't changed, but the path to the \n",
    "station data object will be under the path `csv/by_station` and the filename uses the syntax `<STATION ID>.csv`. \n",
    "\n",
    "Building the URL, this gives: \n",
    "\n",
    "```\n",
    "osdf:///aws-opendata/us-east-1/noaa-ghcn-pds/csv/by_station/USW00014837.csv\n",
    "```\n",
    "\n",
    "We use the same `pelican object get <URL> <destination>` syntax to fetch the object. "
   ]
  },
  {
   "cell_type": "code",
   "execution_count": null,
   "id": "cf8cc07c-5408-4441-b6e8-bdcf312a2168",
   "metadata": {},
   "outputs": [],
   "source": [
    "pelican object get osdf:///aws-opendata/us-east-1/noaa-ghcn-pds/csv/by_station/USW00014837.csv ./"
   ]
  },
  {
   "cell_type": "markdown",
   "id": "6109336e-16ac-4ecb-a834-3d98c506e9c2",
   "metadata": {},
   "source": [
    "And we can again view the contents of the file:"
   ]
  },
  {
   "cell_type": "code",
   "execution_count": null,
   "id": "d5497db2-8534-4e0b-95e9-0cba6e776039",
   "metadata": {},
   "outputs": [],
   "source": [
    "head USW00014837.csv"
   ]
  },
  {
   "cell_type": "markdown",
   "id": "4be687f2-34a7-4e8c-b86d-6a53050f3ea7",
   "metadata": {},
   "source": [
    "## Share Data Objects"
   ]
  },
  {
   "cell_type": "markdown",
   "id": "2e7c57a8-fddb-46f7-89c0-91d7887d34b9",
   "metadata": {},
   "source": [
    "Let's visualize the data we just downloaded and share our results via the OSDF. "
   ]
  },
  {
   "cell_type": "code",
   "execution_count": null,
   "id": "db3ba8fe-f9a8-4410-919d-5239b3eeda75",
   "metadata": {},
   "outputs": [],
   "source": [
    "./example.py USW00014837"
   ]
  },
  {
   "cell_type": "markdown",
   "id": "98274f34-0f46-44e0-939c-d6fe1121a9a9",
   "metadata": {},
   "source": [
    "This should produce a plot: \n",
    "\n",
    "![](./USW00014837.png)"
   ]
  },
  {
   "cell_type": "markdown",
   "id": "404ef44e-6939-44f4-b9ff-f76e1a0d5c9f",
   "metadata": {},
   "source": [
    "These results can be shared using a different origin connected to the OSDF. \n",
    "\n",
    "As before, the first step will be constructing the URL where we want to place the data. For sharing, the namespace prefix is `osdf:///osdf-tutorial/protected`. \n",
    "\n",
    "Normally the object path would just be the name of the image, but to avoid collisions, we will generate a unique identifier to use in the URL. "
   ]
  },
  {
   "cell_type": "code",
   "execution_count": null,
   "id": "a6664de1-ece1-4e12-8b3d-8cd946dcc99d",
   "metadata": {},
   "outputs": [],
   "source": [
    "my_unique_object_name=\"test.$(python3 -m uuid | cut -d '-' -f 1)\""
   ]
  },
  {
   "cell_type": "markdown",
   "id": "174dba6a-dbcc-406e-b220-35178510e8a8",
   "metadata": {},
   "source": [
    "The destination URL will therefore be: \n",
    "\n",
    "```\n",
    "osdf:///osdf-tutorial/protected/${my_unique_object_name}.USW00014837.png\n",
    "```\n",
    "\n",
    "And instead of `pelican object get`, we will now use `pelican object put <local_object> <destination_URL>`. Note that after running this command, you will be prompted with a link -- click on the link, authenticate with CILogon, and then return to this notebook. "
   ]
  },
  {
   "cell_type": "code",
   "execution_count": null,
   "id": "817a4ce2-7674-4a28-9189-fff184286efb",
   "metadata": {},
   "outputs": [],
   "source": [
    "pelican object put USW00014837.png osdf:///osdf-tutorial/protected/${my_unique_object_name}.USW00014837.png"
   ]
  },
  {
   "cell_type": "markdown",
   "id": "3dacc061-21f5-4fe0-9479-57973033c05a",
   "metadata": {},
   "source": [
    "> If you missed the opening of the demo, the previous command might need to be run in a terminal instead of the notebook. "
   ]
  },
  {
   "cell_type": "markdown",
   "id": "1c54c3e4-e8e6-4815-b388-5ec7bf8339f3",
   "metadata": {},
   "source": [
    "## List Data Objects\n",
    "\n",
    "For certain data origins, we can list availabile objects. This is true for the origin where we \n",
    "just uploaded our results. To see the other uploaded results, run `pelican object ls` with the \n",
    "namespace just used with `pelican object put`: "
   ]
  },
  {
   "cell_type": "code",
   "execution_count": null,
   "id": "7c606547-45e3-46c7-a0ba-83674fbb05fb",
   "metadata": {},
   "outputs": [],
   "source": [
    "pelican object ls osdf://osdf-tutorial/protected/"
   ]
  },
  {
   "cell_type": "markdown",
   "id": "09a78bcd-7435-44d2-acd6-21713f08bbc1",
   "metadata": {},
   "source": [
    "Do you know how to pull someone else's results to this environment? "
   ]
  },
  {
   "cell_type": "markdown",
   "id": "c259ca27-4bbc-4969-8438-1836d12f9605",
   "metadata": {},
   "source": [
    "## Exploring Further\n",
    "\n",
    "To install the Pelican CLI on your own device, follow the instructions at [docs.pelicanplatform.org/install](https://docs.pelicanplatform.org/install) for your operating system. If you are using a Linux operating system, you can quickly install the Pelican CLI following the [instructions here](https://docs.pelicanplatform.org/install/linux-binary).\n",
    "\n",
    "The syntax of the Pelican client is similar to other Linux tools like `git` or `docker`, where the command construction is: \n",
    "\n",
    "```\n",
    "pelican <noun> <command> <arguments>\n",
    "```\n",
    "\n",
    "To see available nouns, or commands, just run a partial command or add `--help` \n",
    "to a base command. "
   ]
  },
  {
   "cell_type": "code",
   "execution_count": null,
   "id": "2b659ba0-1467-4c95-931a-c946b8005f55",
   "metadata": {},
   "outputs": [],
   "source": [
    "pelican object --help"
   ]
  },
  {
   "cell_type": "code",
   "execution_count": null,
   "id": "72d24e8d-b7e2-4d8f-aad6-ce2bddad89fb",
   "metadata": {},
   "outputs": [],
   "source": []
  }
 ],
 "metadata": {
  "kernelspec": {
   "display_name": "Bash",
   "language": "bash",
   "name": "bash"
  },
  "language_info": {
   "codemirror_mode": "shell",
   "file_extension": ".sh",
   "mimetype": "text/x-sh",
   "name": "bash"
  }
 },
 "nbformat": 4,
 "nbformat_minor": 5
}
