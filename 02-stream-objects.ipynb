{
 "cells": [
  {
   "cell_type": "markdown",
   "id": "ed5e1a64-3ee6-4200-8b61-0bee44a2cc88",
   "metadata": {},
   "source": [
    "# Stream Objects Using Python\n",
    "\n",
    "In this section of the tutorial, we will explore an alternate way to access data objects using Pelican. The URL \n",
    "format for the data objects will be the same, but instead of using the CLI to fetch the object, we will use a \n",
    "Pelican fsspec implementation in Python ([PelicanFS](https://github.com/PelicanPlatform/pelicanfs)) to \"stream\" the data as part of a Python notebook. "
   ]
  },
  {
   "cell_type": "markdown",
   "id": "b999a871-c638-442a-bd80-55aa7a315307",
   "metadata": {},
   "source": [
    "## Starting Data File\n",
    "\n",
    "We will use the same data file as previously: \n",
    "\n",
    "```\n",
    "osdf:///aws-opendata/us-east-1/noaa-ghcn-pds/csv/by_station/USW00014837.csv\n",
    "```\n",
    "\n",
    "Download it as shown in the [command line client notebook](01-get-and-share-objects.ipynb). "
   ]
  },
  {
   "cell_type": "markdown",
   "id": "f2d442be-8992-4271-af8a-9a5c612453f6",
   "metadata": {},
   "source": [
    "## Notebook Example\n",
    "\n",
    "If the code from the previous section was implemented as a notebook, instead of a standalone python script, \n",
    "it would look like this"
   ]
  },
  {
   "cell_type": "code",
   "execution_count": null,
   "id": "dffc3a67-0316-46c4-a2ef-1ed1bdcfd318",
   "metadata": {},
   "outputs": [],
   "source": [
    "from sys import argv\n",
    "import pandas as pd\n",
    "from my_functions import extract_temp_data, identify_season, create_histogram"
   ]
  },
  {
   "cell_type": "code",
   "execution_count": null,
   "id": "494222c4-3b29-4f1e-92d9-ad2e1c7c8ed7",
   "metadata": {},
   "outputs": [],
   "source": [
    "station_id = \"USW00014837\"\n",
    "\n",
    "# Read data from file\n",
    "station_data_filename = f\"{station_id}.csv\"\n",
    "station_df = pd.read_csv(station_data_filename, low_memory=False)"
   ]
  },
  {
   "cell_type": "code",
   "execution_count": null,
   "id": "a2b12ba6-c5cc-4241-ab21-6fb4de866f28",
   "metadata": {},
   "outputs": [],
   "source": [
    "# Extract Min, Max Temperatures as dataframe\n",
    "tempdf = extract_temp_data(station_df)\n",
    "\n",
    "# Describe the dataset\n",
    "print(f\"{tempdf.describe()}\\n\")\n",
    "\n",
    "# Label by season\n",
    "tempdf['SEASON'] = tempdf.index.map(identify_season)\n",
    "\n",
    "# Create histograms\n",
    "# Saves as <STATION ID>-temp-dist.png, unless otherwise specified.\n",
    "create_histogram(tempdf, station_id)"
   ]
  },
  {
   "cell_type": "markdown",
   "id": "9fdbdcc8-94e1-4d5c-8c20-feac837fa098",
   "metadata": {},
   "source": [
    "This works well for data that is small enough to download and work with locally. But what \n",
    "if data objects are too large for local use? Let's delete\n",
    "the local file (if downloaded) and try to use it a different way. "
   ]
  },
  {
   "cell_type": "code",
   "execution_count": null,
   "id": "0b4f87e2-0ee2-406a-8477-a08771f42e3b",
   "metadata": {},
   "outputs": [],
   "source": [
    "!rm USW00014837.csv"
   ]
  },
  {
   "cell_type": "markdown",
   "id": "06076e8d-4308-492a-a319-7c622ad52d05",
   "metadata": {},
   "source": [
    "## Loading Data with PelicanFS\n",
    "\n",
    "Instead of using the command line tool to download today, it's possible to use a Python module \n",
    "called [PelicanFS](https://github.com/PelicanPlatform/pelicanfs) to stream the data into a computational process. From the Github README: \n",
    "\n",
    "> PelicanFS is a file system interface (fsspec) for the Pelican Platform. For more information about pelican, see our [main website](https://pelicanplatform.org/) or [Github page](https://github.com/PelicanPlatform/pelican). For more information about fsspec, visit the [filesystem-spec page](https://filesystem-spec.readthedocs.io/en/latest/index.html).\n",
    "\n",
    "In this example, instead of creating a local path to the data, we will instead create \n",
    "a Pelican URL. "
   ]
  },
  {
   "cell_type": "code",
   "execution_count": null,
   "id": "b2b87104-5a66-406f-a989-3f846e059b47",
   "metadata": {},
   "outputs": [],
   "source": [
    "station_id = \"USW00014837\"\n",
    "osdf_prefix = 'osdf:///aws-opendata/us-east-1/noaa-ghcn-pds'\n",
    "station_URL = f\"{osdf_prefix}/csv/by_station/{station_id}.csv\""
   ]
  },
  {
   "cell_type": "markdown",
   "id": "15bb28ba-028a-4a7f-8a08-eba933c23d7c",
   "metadata": {},
   "source": [
    "Then, through the magic of PelicanFS and fsspec, the data can be loaded with the URL! "
   ]
  },
  {
   "cell_type": "code",
   "execution_count": null,
   "id": "2845ee0f-1b38-494b-8994-b57eaa847072",
   "metadata": {},
   "outputs": [],
   "source": [
    "station_df = pd.read_csv(station_URL, low_memory=False)"
   ]
  },
  {
   "cell_type": "code",
   "execution_count": null,
   "id": "8cad69c2-4d16-4a22-8c83-198036a4c145",
   "metadata": {},
   "outputs": [],
   "source": [
    "station_df.head()"
   ]
  },
  {
   "cell_type": "markdown",
   "id": "5e921a3b-2884-4080-9de0-40da0efcb8a8",
   "metadata": {},
   "source": [
    "And then the rest of the analysis can proceed as before. "
   ]
  },
  {
   "cell_type": "code",
   "execution_count": null,
   "id": "baf3d01f-09ce-4c2a-b431-fef78885a82b",
   "metadata": {},
   "outputs": [],
   "source": [
    "# Extract Min, Max Temperatures as dataframe\n",
    "tempdf = extract_temp_data(station_df)\n",
    "\n",
    "# Describe the dataset\n",
    "print(f\"{tempdf.describe()}\\n\")\n",
    "\n",
    "# Label by season\n",
    "tempdf['SEASON'] = tempdf.index.map(identify_season)\n",
    "\n",
    "# Create histograms\n",
    "# Saves as <STATION ID>-temp-dist.png, unless otherwise specified.\n",
    "create_histogram(tempdf, station_id)"
   ]
  },
  {
   "cell_type": "markdown",
   "id": "11ab38c6-4f44-4ee1-a5dd-118fcfa08164",
   "metadata": {},
   "source": [
    "Note that we didn't even have to import the PelicanFS module for this to work, but it did need to be installed. "
   ]
  }
 ],
 "metadata": {
  "kernelspec": {
   "display_name": "Python 3 (ipykernel)",
   "language": "python",
   "name": "python3"
  },
  "language_info": {
   "codemirror_mode": {
    "name": "ipython",
    "version": 3
   },
   "file_extension": ".py",
   "mimetype": "text/x-python",
   "name": "python",
   "nbconvert_exporter": "python",
   "pygments_lexer": "ipython3",
   "version": "3.8.11"
  }
 },
 "nbformat": 4,
 "nbformat_minor": 5
}
